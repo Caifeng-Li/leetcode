{
 "cells": [
  {
   "cell_type": "markdown",
   "id": "b7a7c918-738e-43cd-809f-b9f2ad3b1cde",
   "metadata": {},
   "source": [
    "# 1. 两数之和"
   ]
  },
  {
   "cell_type": "markdown",
   "id": "09d83de1-2497-48df-9aaf-20e55c4ed22a",
   "metadata": {},
   "source": [
    "给定一个整数数组 nums 和一个整数目标值 target，请你在该数组中找出 和为目标值 target  的那 两个 整数，并返回它们的数组下标。\n",
    "你可以假设每种输入只会对应一个答案。但是，数组中同一个元素在答案里不能重复出现。\n",
    "你可以按任意顺序返回答案。"
   ]
  },
  {
   "cell_type": "code",
   "execution_count": 16,
   "id": "0ab0ad2d-30ea-4b02-b6aa-1ff3e627faec",
   "metadata": {},
   "outputs": [],
   "source": [
    "nums=[3,3]\n",
    "target=6"
   ]
  },
  {
   "cell_type": "code",
   "execution_count": 7,
   "id": "7be297bd-b129-4185-a851-4cb1479c57e5",
   "metadata": {},
   "outputs": [
    {
     "name": "stdout",
     "output_type": "stream",
     "text": [
      "[0, 1]\n"
     ]
    }
   ],
   "source": [
    "def twoSum(self, nums: List[int], target: int) -> List[int]:\n",
    "    for i in range(len(nums)):\n",
    "        for j in range(len(nums))[i+1:]:\n",
    "            if nums[i]+nums[j] == target:\n",
    "                return [i,j]"
   ]
  },
  {
   "cell_type": "code",
   "execution_count": 18,
   "id": "444283a2-5152-4306-96b2-540cbea81016",
   "metadata": {},
   "outputs": [
    {
     "name": "stdout",
     "output_type": "stream",
     "text": [
      "[0, 1]\n"
     ]
    }
   ],
   "source": [
    "def twoSum(self, nums: List[int], target: int) -> List[int]:\n",
    "    for i in range(len(nums)):\n",
    "    res = target-nums[i]\n",
    "    if res in nums[i+1:]:\n",
    "        return [i, nums[i+1:].index(res)+i+1]"
   ]
  },
  {
   "cell_type": "code",
   "execution_count": 13,
   "id": "c9ea6f56-8015-4f5d-be3b-cf4322bc70f4",
   "metadata": {},
   "outputs": [
    {
     "data": {
      "text/plain": [
       "2"
      ]
     },
     "execution_count": 13,
     "metadata": {},
     "output_type": "execute_result"
    }
   ],
   "source": []
  },
  {
   "cell_type": "code",
   "execution_count": null,
   "id": "354f03b3-e03c-49fc-890e-f71a00f13660",
   "metadata": {},
   "outputs": [],
   "source": []
  },
  {
   "cell_type": "code",
   "execution_count": null,
   "id": "0d224221-bf29-48bb-8b46-d6fe866efb45",
   "metadata": {},
   "outputs": [],
   "source": []
  },
  {
   "cell_type": "code",
   "execution_count": null,
   "id": "3f656522-8e70-4e00-b832-c7908195b3ef",
   "metadata": {},
   "outputs": [],
   "source": []
  }
 ],
 "metadata": {
  "kernelspec": {
   "display_name": "Python 3 (ipykernel)",
   "language": "python",
   "name": "python3"
  },
  "language_info": {
   "codemirror_mode": {
    "name": "ipython",
    "version": 3
   },
   "file_extension": ".py",
   "mimetype": "text/x-python",
   "name": "python",
   "nbconvert_exporter": "python",
   "pygments_lexer": "ipython3",
   "version": "3.11.0"
  }
 },
 "nbformat": 4,
 "nbformat_minor": 5
}
